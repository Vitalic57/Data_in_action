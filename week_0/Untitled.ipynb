{
 "cells": [
  {
   "cell_type": "code",
   "execution_count": 110,
   "metadata": {
    "collapsed": false
   },
   "outputs": [],
   "source": [
    "#!/usr/bin/env python\n",
    "# -*- coding: utf8 -*-\n",
    "\n",
    "\n",
    "####################################################\n",
    "### You are not allowed to import anything else. ###\n",
    "####################################################\n",
    "# python 3\n",
    "import numpy as np\n",
    "\n",
    "\n",
    "def power_sum(l, r, p=1.0):\n",
    "    \"\"\"\n",
    "        input: l, r - integers, p - float\n",
    "        returns sum of p powers of integers from [l, r]\n",
    "    \"\"\"\n",
    "    return sum([i**p for i in range(l, r + 1)])\n",
    "\n",
    "\n",
    "def solve_equation(a, b, c):\n",
    "    \"\"\"\n",
    "        input: a, b, c - integers\n",
    "        returns float solutions x of the following equation: a x ** 2 + b x + c == 0\n",
    "            In case of two diffrent solution returns tuple / list (x1, x2)\n",
    "            In case of one solution returns one float\n",
    "            In case of no float solutions return None \n",
    "            In case of infinity number of solutions returns 'inf'\n",
    "    \"\"\"\n",
    "    if a == 0:\n",
    "        if b == 0:\n",
    "            return 'inf'\n",
    "        else:\n",
    "            return -c/b\n",
    "    else:\n",
    "        D = b**2 - 4*a*c\n",
    "        if D > 0:\n",
    "            return [(-b + D ** (1/2.0)) / (2 * a), (-b - D ** (1/2.0)) / (2 * a)]\n",
    "        elif D < 0:\n",
    "            return None\n",
    "        else:\n",
    "            return -b / (2 * a)\n",
    "\n",
    "\n",
    "def replace_outliers(x, std_mul=3.0):\n",
    "    \"\"\"\n",
    "        input: x - numpy vector, std_mul - positive float\n",
    "        returns copy of x with all outliers (elements, which are beyond std_mul * (standart deviation) from mean)\n",
    "        replaced with mean  \n",
    "    \"\"\"\n",
    "    threshold = np.std(x) * std_mul\n",
    "    m = np.mean(x)\n",
    "    res = list()\n",
    "    for i in x:\n",
    "        if i > threshold:\n",
    "            res.append(m)\n",
    "        else:\n",
    "            res.append(i)\n",
    "    return np.array(res)\n",
    "\n",
    "\n",
    "def get_eigenvector(A, alpha):\n",
    "    \"\"\"\n",
    "        input: A - square numpy matrix, alpha - float\n",
    "        returns numpy vector - any eigenvector of A corresponding to eigenvalue alpha, \n",
    "                or None if alpha is not an eigenvalue.\n",
    "    \"\"\"\n",
    "    eps = 1e-8\n",
    "    v, w = np.linalg.eig(A)\n",
    "    for i in range(0 ,len(v)):\n",
    "        if abs(v[i] - alpha) < eps:\n",
    "            return w[i]\n",
    "    return None\n",
    "    \n",
    "\n",
    "\n",
    "def discrete_sampler(p):\n",
    "    \"\"\"\n",
    "        input: p - numpy vector of probability (non-negative, sums to 1)\n",
    "        returns integer from 0 to len(p) - 1, each integer i is returned with probability p[i] \n",
    "    \"\"\"\n",
    "    return int(np.random.choice(len(p), 1, p = p))\n",
    "\n",
    "\n",
    "def gaussian_log_likelihood(x, mu=0.0, sigma=1.0):\n",
    "    \"\"\"\n",
    "        input: x - numpy vector, mu - float, sigma - positive float\n",
    "        returns log p(x| mu, sigma) - log-likelihood of x dataset \n",
    "        in univariate gaussian model with mean mu and standart deviation sigma\n",
    "    \"\"\"\n",
    "    return np.log(1.0 / sigma / (2 * np.pi)**0.5 )  - ((x - mu) ** 2) / (2 * sigma ** 2)\n",
    "\n",
    "\n",
    "def gradient_approx(f, x0, eps=1e-8):\n",
    "    \"\"\"\n",
    "        input: f - callable, function of vector x. x0 - numpy vector, eps - float, represents step for x_i\n",
    "        returns numpy vector - gradient of f in x0 calculated with finite difference method \n",
    "        (for reference use https://en.wikipedia.org/wiki/Numerical_differentiation, search for \"first-order divided difference\")\n",
    "    \"\"\"\n",
    "    return (f(x0 + eps) - f(x0 - eps)) / (2 * eps) \n",
    "\n",
    "\n",
    "def gradient_method(f, x0, n_steps=1000, learning_rate=1e-2, eps=1e-8):\n",
    "    \"\"\"\n",
    "        input: f - function of x. x0 - numpy vector, n_steps - integer, learning rate, eps - float.\n",
    "        returns tuple (f^*, x^*), where x^* is local minimum point, found after n_steps of gradient descent, \n",
    "                                        f^* - resulting function value.\n",
    "        Impletent gradient descent method, given in the lecture. \n",
    "        For gradient use finite difference approximation with eps step.\n",
    "    \"\"\"\n",
    "    x = x0\n",
    "    for i in range(0, n_steps):\n",
    "        x = x - gradient_approx(f, x, eps) * learning_rate\n",
    "    return (f(x),x)\n",
    "\n",
    "\n",
    "def linear_regression_predict(w, b, X):\n",
    "    \"\"\"\n",
    "        input: w - numpy vector of M weights, b - bias, X - numpy matrix N x M (object-feature matrix), \n",
    "        N - number of objects, M - number of features.\n",
    "        returns numpy vector of predictions of linear regression model for X\n",
    "        https://xkcd.com/1725/\n",
    "    \"\"\"\n",
    "    return X.dot(w) + b\n",
    "\n",
    "\n",
    "def mean_squared_error(y_true, y_pred):\n",
    "    \"\"\"\n",
    "        input: two numpy vectors of object targets and model predictions.\n",
    "        return mse\n",
    "    \"\"\"\n",
    "    return (np.array((y_true - y_pred)) ** 2).mean(axis=0)\n",
    "\n",
    "\n",
    "def linear_regression_mse_gradient(w, b, X, y_true):\n",
    "    \"\"\"\n",
    "        input: w, b - weights and bias of a linear regression model,\n",
    "                X - object-feature matrix, y_true - targets.\n",
    "        returns gradient of linear regression model mean squared error w.r.t w and b\n",
    "    \"\"\"\n",
    "    return (2.0 / X.shape[0] * X.transpose().dot(X.dot(w) + b - y_true),\n",
    "            2.0 / X.shape[0] * (X.dot(w) + b - y_true).sum(axis = 0))\n",
    "\n",
    "\n",
    "class LinearRegressor:\n",
    "    def fit(self, X_train, y_train, n_steps=1000, learning_rate=1e-2, eps=1e-8):\n",
    "        \"\"\"\n",
    "            input: object-feature matrix and targets.\n",
    "            optimises mse w.r.t model parameters \n",
    "        \"\"\"\n",
    "        \n",
    "        w = np.asmatrix(np.random.normal(0, 1, X_train.shape[1]).transpose())\n",
    "        b = np.asmatrix(np.random.normal(0, 1, 1))\n",
    "        for i in range(0, n_steps):\n",
    "            grad = linear_regression_mse_gradient(w, b, X_train, y_train)\n",
    "            w = w - learning_rate * grad[0]\n",
    "            b = b - learning_rate * grad[1]\n",
    "        self.w = w\n",
    "        self.b = b\n",
    "        return self\n",
    "\n",
    "\n",
    "    def predict(self, X):\n",
    "        return linear_regression_predict(self.w, self.b, X)\n",
    "\n",
    "\n",
    "def sigmoid(x):\n",
    "    return 1.0 / (1.0 + np.exp(-x))\n",
    "\n",
    "\n",
    "def sigmoid_der(x):\n",
    "    \"\"\"\n",
    "        returns sigmoid derivative w.r.t. x\n",
    "    \"\"\"\n",
    "    return np.exp(-x)/(1 + np.exp(-x))**2\n",
    "\n",
    "\n",
    "def relu(x):\n",
    "    return np.maximum(x, 0)\n",
    "\n",
    "\n",
    "def relu_der(x):\n",
    "    \"\"\"\n",
    "        return relu (sub-)derivative w.r.t x\n",
    "    \"\"\"\n",
    "    if x > 0:\n",
    "        return 1\n",
    "    else:\n",
    "        return 0\n",
    "\n",
    "\n",
    "class MLPRegressor:\n",
    "    \"\"\"\n",
    "        simple dense neural network class for regression with mse loss. \n",
    "    \"\"\"\n",
    "    def __init__(self, n_units=[32, 32], nonlinearity=relu):\n",
    "        \"\"\"\n",
    "            input: n_units - number of neurons for each hidden layer in neural network,\n",
    "                   nonlinearity - activation function applied between hidden layers.\n",
    "        \"\"\"\n",
    "        self.n_units = n_units\n",
    "        self.nonlinearity = nonlinearity\n",
    "\n",
    "    def predict(self, X):\n",
    "        \"\"\"\n",
    "            input: object-feature matrix\n",
    "            returns MLP predictions in X\n",
    "        \"\"\"\n",
    "        res = list()\n",
    "        l = list()\n",
    "        for i in range(X.shape[1]):\n",
    "            l.append(X[:,i]) \n",
    "        l.append(np.matrix(np.ones(X.shape[0])).transpose())\n",
    "        res.append(l)\n",
    "        for i in range(len(self.n_units)):\n",
    "            l = list()\n",
    "            for j in range(self.n_units[i]):\n",
    "                l.append(self.nonlinearity(np.matrix(np.c_[res[len(res) - 1]]).transpose().dot(self.params[i][j].transpose())))\n",
    "            l.append(np.matrix(np.ones(X.shape[0])).transpose())\n",
    "            res.append(l)\n",
    "        return np.matrix(np.c_[res[len(res) - 1]]).transpose().dot(self.params[len(self.n_units) - 1][0].transpose())\n",
    "        \n",
    "    def fit(self, X_train, y_train, n_steps=1000, learning_rate=1e-2, eps=1e-8):\n",
    "        \"\"\"\n",
    "            input: object-feature matrix and targets.\n",
    "            optimises mse w.r.t model parameters\n",
    "            (you may use approximate gradient estimation)\n",
    "        \"\"\"\n",
    "        \n",
    "        tmp = [X_train.shape[1]] + self.n_units + [y_train.shape[1]]\n",
    "        params = list()\n",
    "        for i in range(1, len(tmp)):\n",
    "            l = list()\n",
    "            for j in range(tmp[i]):\n",
    "                #plus one for bias\n",
    "                l.append(np.asmatrix(np.random.normal(0, 1, tmp[i - 1] + 1)))\n",
    "            params.append(l)\n",
    "        self.params = params\n",
    "        for i in range(n_steps):\n",
    "            for i in range(len(params)):\n",
    "                l = list()\n",
    "                for j in range(tmp[i + 1]):\n",
    "                    self.params[i][j] =  self.params[i][j] + eps\n",
    "                    pred1 = self.predict(X_train)\n",
    "                    loss1 = mean_squared_error(y_train, pred1)\n",
    "                    self.params[i][j] =  self.params[i][j] - 2 * eps\n",
    "                    pred2 = self.predict(X_train)\n",
    "                    loss2 = mean_squared_error(y_train, pred2)\n",
    "                    self.params[i][j] =  self.params[i][j] + eps\n",
    "                    self.params[i][j] = self.params[i][j] - learning_rate * (loss1 - loss2) / (2 * eps)\n",
    "            \n",
    "\n",
    "    \n",
    "                \n",
    "                "
   ]
  },
  {
   "cell_type": "code",
   "execution_count": 49,
   "metadata": {
    "collapsed": false
   },
   "outputs": [
    {
     "data": {
      "text/plain": [
       "matrix([[ 1.],\n",
       "        [ 1.],\n",
       "        [ 1.],\n",
       "        [ 1.]])"
      ]
     },
     "execution_count": 49,
     "metadata": {},
     "output_type": "execute_result"
    }
   ],
   "source": [
    "np.matrix(np.ones(4)).transpose()"
   ]
  },
  {
   "cell_type": "code",
   "execution_count": 91,
   "metadata": {
    "collapsed": false
   },
   "outputs": [
    {
     "data": {
      "text/plain": [
       "29.0"
      ]
     },
     "execution_count": 91,
     "metadata": {},
     "output_type": "execute_result"
    }
   ],
   "source": [
    "# tests\n",
    "power_sum(2, 4, p=2.0)"
   ]
  },
  {
   "cell_type": "code",
   "execution_count": 97,
   "metadata": {
    "collapsed": false
   },
   "outputs": [
    {
     "name": "stdout",
     "output_type": "stream",
     "text": [
      "inf\n",
      "[0.0, -1.0]\n",
      "None\n",
      "2.0\n"
     ]
    }
   ],
   "source": [
    "print(solve_equation(0, 0, 0))\n",
    "print(solve_equation(1, 1, 0))\n",
    "print(solve_equation(1, 2, 3))\n",
    "print(solve_equation(0, 2, -4))"
   ]
  },
  {
   "cell_type": "code",
   "execution_count": 107,
   "metadata": {
    "collapsed": false
   },
   "outputs": [
    {
     "name": "stdout",
     "output_type": "stream",
     "text": [
      "[  1.           2.           1.           1.           1.           1.           1.\n",
      "   1.          12.11111111]\n",
      "93.2249370549\n",
      "1.0\n"
     ]
    }
   ],
   "source": [
    "x = [1,2,1 , 1, 1, 1, 1, 1, 100]\n",
    "print(replace_outliers(x, std_mul=3.0))\n"
   ]
  },
  {
   "cell_type": "code",
   "execution_count": 115,
   "metadata": {
    "collapsed": false
   },
   "outputs": [
    {
     "name": "stdout",
     "output_type": "stream",
     "text": [
      "None\n",
      "[ 0.  1.  0.]\n"
     ]
    }
   ],
   "source": [
    "print(get_eigenvector(np.diag([1,2,3]), alpha = 1.3))\n",
    "print(get_eigenvector(np.diag([1,2,3]), alpha = 2))"
   ]
  },
  {
   "cell_type": "code",
   "execution_count": 156,
   "metadata": {
    "collapsed": false
   },
   "outputs": [
    {
     "data": {
      "text/plain": [
       "2"
      ]
     },
     "execution_count": 156,
     "metadata": {},
     "output_type": "execute_result"
    }
   ],
   "source": [
    "discrete_sampler([0,0.5 ,0.5, 0])"
   ]
  },
  {
   "cell_type": "code",
   "execution_count": 174,
   "metadata": {
    "collapsed": false
   },
   "outputs": [
    {
     "name": "stdout",
     "output_type": "stream",
     "text": [
      "0.176032663382\n",
      "0.176032663382\n"
     ]
    }
   ],
   "source": [
    "print(np.exp(gaussian_log_likelihood(1, mu=0.0, sigma=2.0)))\n",
    "print(1/2.0/(2 * np.pi) ** 0.5 * np.exp(-0.5/4))"
   ]
  },
  {
   "cell_type": "code",
   "execution_count": 183,
   "metadata": {
    "collapsed": false
   },
   "outputs": [
    {
     "name": "stdout",
     "output_type": "stream",
     "text": [
      "8.000000000001783\n"
     ]
    },
    {
     "data": {
      "text/plain": [
       "7.999999951380232"
      ]
     },
     "execution_count": 183,
     "metadata": {},
     "output_type": "execute_result"
    }
   ],
   "source": [
    "def f(x):\n",
    "    return x ** 2\n",
    "x0 = 4\n",
    "gradient_approx(f = f, x0 = x0, eps=1e-8)"
   ]
  },
  {
   "cell_type": "code",
   "execution_count": 187,
   "metadata": {
    "collapsed": false
   },
   "outputs": [
    {
     "data": {
      "text/plain": [
       "(4.0, 9.999999989292348)"
      ]
     },
     "execution_count": 187,
     "metadata": {},
     "output_type": "execute_result"
    }
   ],
   "source": [
    "def f(x):\n",
    "    return (x - 10) ** 2 + 4\n",
    "x0 - 4\n",
    "gradient_method(f, x0, n_steps=1000, learning_rate=1e-2, eps=1e-8)"
   ]
  },
  {
   "cell_type": "code",
   "execution_count": 190,
   "metadata": {
    "collapsed": false
   },
   "outputs": [
    {
     "data": {
      "text/plain": [
       "matrix([[-1, -1,  0,  0]])"
      ]
     },
     "execution_count": 190,
     "metadata": {},
     "output_type": "execute_result"
    }
   ],
   "source": [
    "linear_regression_predict(w = np.array([0,1]), b = -1, X = np.matrix([[1, 0], [1, 0], [1, 1], [1, 1]]))"
   ]
  },
  {
   "cell_type": "code",
   "execution_count": 195,
   "metadata": {
    "collapsed": false
   },
   "outputs": [
    {
     "data": {
      "text/plain": [
       "2.5"
      ]
     },
     "execution_count": 195,
     "metadata": {},
     "output_type": "execute_result"
    }
   ],
   "source": [
    "mean_squared_error(np.array([1,1]), np.array([0,3]))"
   ]
  },
  {
   "cell_type": "code",
   "execution_count": 5,
   "metadata": {
    "collapsed": false
   },
   "outputs": [
    {
     "name": "stdout",
     "output_type": "stream",
     "text": [
      "[[6]]\n",
      "[[ 6.]]\n"
     ]
    },
    {
     "ename": "NameError",
     "evalue": "name 'linear_regression_mse_gradient' is not defined",
     "output_type": "error",
     "traceback": [
      "\u001b[0;31m---------------------------------------------------------------------------\u001b[0m",
      "\u001b[0;31mNameError\u001b[0m                                 Traceback (most recent call last)",
      "\u001b[0;32m<ipython-input-5-d97bdcf5b82b>\u001b[0m in \u001b[0;36m<module>\u001b[0;34m()\u001b[0m\n\u001b[1;32m      6\u001b[0m \u001b[0mprint\u001b[0m\u001b[1;33m(\u001b[0m\u001b[1;33m(\u001b[0m\u001b[0mX\u001b[0m\u001b[1;33m.\u001b[0m\u001b[0mdot\u001b[0m\u001b[1;33m(\u001b[0m\u001b[0mw\u001b[0m\u001b[1;33m)\u001b[0m \u001b[1;33m+\u001b[0m \u001b[0mb\u001b[0m  \u001b[1;33m-\u001b[0m \u001b[0my_true\u001b[0m\u001b[1;33m)\u001b[0m\u001b[1;33m.\u001b[0m\u001b[0msum\u001b[0m\u001b[1;33m(\u001b[0m\u001b[0maxis\u001b[0m \u001b[1;33m=\u001b[0m \u001b[1;36m0\u001b[0m\u001b[1;33m)\u001b[0m\u001b[1;33m)\u001b[0m\u001b[1;33m\u001b[0m\u001b[0m\n\u001b[1;32m      7\u001b[0m \u001b[0mprint\u001b[0m\u001b[1;33m(\u001b[0m \u001b[1;36m2.0\u001b[0m \u001b[1;33m/\u001b[0m \u001b[0mX\u001b[0m\u001b[1;33m.\u001b[0m\u001b[0mshape\u001b[0m\u001b[1;33m[\u001b[0m\u001b[1;36m0\u001b[0m\u001b[1;33m]\u001b[0m \u001b[1;33m*\u001b[0m\u001b[1;33m(\u001b[0m\u001b[0mX\u001b[0m\u001b[1;33m.\u001b[0m\u001b[0mdot\u001b[0m\u001b[1;33m(\u001b[0m\u001b[0mw\u001b[0m\u001b[1;33m)\u001b[0m \u001b[1;33m+\u001b[0m \u001b[0mb\u001b[0m \u001b[1;33m-\u001b[0m \u001b[0my_true\u001b[0m\u001b[1;33m)\u001b[0m\u001b[1;33m.\u001b[0m\u001b[0msum\u001b[0m\u001b[1;33m(\u001b[0m\u001b[0maxis\u001b[0m \u001b[1;33m=\u001b[0m \u001b[1;36m0\u001b[0m\u001b[1;33m)\u001b[0m\u001b[1;33m)\u001b[0m\u001b[1;33m\u001b[0m\u001b[0m\n\u001b[0;32m----> 8\u001b[0;31m linear_regression_mse_gradient(w = w, b = b, \n\u001b[0m\u001b[1;32m      9\u001b[0m                                X = X, y_true = y_true)\n",
      "\u001b[0;31mNameError\u001b[0m: name 'linear_regression_mse_gradient' is not defined"
     ]
    }
   ],
   "source": [
    "import numpy as np\n",
    "w = np.matrix([[1], [2]])\n",
    "b = np.matrix([0]) \n",
    "X = np.matrix([[0, 1],[0, 2]])\n",
    "y_true = np.matrix([0,0]).transpose()\n",
    "print((X.dot(w) + b  - y_true).sum(axis = 0))\n",
    "print( 2.0 / X.shape[0] *(X.dot(w) + b - y_true).sum(axis = 0))\n",
    "linear_regression_mse_gradient(w = w, b = b, \n",
    "                               X = X, y_true = y_true)"
   ]
  },
  {
   "cell_type": "code",
   "execution_count": 108,
   "metadata": {
    "collapsed": false
   },
   "outputs": [
    {
     "ename": "ValueError",
     "evalue": "input must be a square array",
     "output_type": "error",
     "traceback": [
      "\u001b[0;31m---------------------------------------------------------------------------\u001b[0m",
      "\u001b[0;31mValueError\u001b[0m                                Traceback (most recent call last)",
      "\u001b[0;32m<ipython-input-108-a438c48b0c05>\u001b[0m in \u001b[0;36m<module>\u001b[0;34m()\u001b[0m\n\u001b[0;32m----> 1\u001b[0;31m \u001b[0mmean_squared_error\u001b[0m\u001b[1;33m(\u001b[0m\u001b[0mw\u001b[0m\u001b[1;33m,\u001b[0m \u001b[0mw\u001b[0m\u001b[1;33m)\u001b[0m\u001b[1;33m\u001b[0m\u001b[0m\n\u001b[0m",
      "\u001b[0;32m<ipython-input-106-5aabee3cf695>\u001b[0m in \u001b[0;36mmean_squared_error\u001b[0;34m(y_true, y_pred)\u001b[0m\n\u001b[1;32m    129\u001b[0m         \u001b[1;32mreturn\u001b[0m \u001b[0mmse\u001b[0m\u001b[1;33m\u001b[0m\u001b[0m\n\u001b[1;32m    130\u001b[0m     \"\"\"\n\u001b[0;32m--> 131\u001b[0;31m     \u001b[1;32mreturn\u001b[0m \u001b[0mnp\u001b[0m\u001b[1;33m.\u001b[0m\u001b[0marray\u001b[0m\u001b[1;33m(\u001b[0m\u001b[1;33m(\u001b[0m\u001b[1;33m(\u001b[0m\u001b[0my_true\u001b[0m \u001b[1;33m-\u001b[0m \u001b[0my_pred\u001b[0m\u001b[1;33m)\u001b[0m \u001b[1;33m**\u001b[0m \u001b[1;36m2\u001b[0m\u001b[1;33m)\u001b[0m\u001b[1;33m)\u001b[0m\u001b[1;33m.\u001b[0m\u001b[0mmean\u001b[0m\u001b[1;33m(\u001b[0m\u001b[0maxis\u001b[0m\u001b[1;33m=\u001b[0m\u001b[1;36m0\u001b[0m\u001b[1;33m)\u001b[0m\u001b[1;33m\u001b[0m\u001b[0m\n\u001b[0m\u001b[1;32m    132\u001b[0m \u001b[1;33m\u001b[0m\u001b[0m\n\u001b[1;32m    133\u001b[0m \u001b[1;33m\u001b[0m\u001b[0m\n",
      "\u001b[0;32mC:\\Users\\Vitaly\\Anaconda3\\lib\\site-packages\\numpy\\matrixlib\\defmatrix.py\u001b[0m in \u001b[0;36m__pow__\u001b[0;34m(self, other)\u001b[0m\n\u001b[1;32m    354\u001b[0m \u001b[1;33m\u001b[0m\u001b[0m\n\u001b[1;32m    355\u001b[0m     \u001b[1;32mdef\u001b[0m \u001b[0m__pow__\u001b[0m\u001b[1;33m(\u001b[0m\u001b[0mself\u001b[0m\u001b[1;33m,\u001b[0m \u001b[0mother\u001b[0m\u001b[1;33m)\u001b[0m\u001b[1;33m:\u001b[0m\u001b[1;33m\u001b[0m\u001b[0m\n\u001b[0;32m--> 356\u001b[0;31m         \u001b[1;32mreturn\u001b[0m \u001b[0mmatrix_power\u001b[0m\u001b[1;33m(\u001b[0m\u001b[0mself\u001b[0m\u001b[1;33m,\u001b[0m \u001b[0mother\u001b[0m\u001b[1;33m)\u001b[0m\u001b[1;33m\u001b[0m\u001b[0m\n\u001b[0m\u001b[1;32m    357\u001b[0m \u001b[1;33m\u001b[0m\u001b[0m\n\u001b[1;32m    358\u001b[0m     \u001b[1;32mdef\u001b[0m \u001b[0m__ipow__\u001b[0m\u001b[1;33m(\u001b[0m\u001b[0mself\u001b[0m\u001b[1;33m,\u001b[0m \u001b[0mother\u001b[0m\u001b[1;33m)\u001b[0m\u001b[1;33m:\u001b[0m\u001b[1;33m\u001b[0m\u001b[0m\n",
      "\u001b[0;32mC:\\Users\\Vitaly\\Anaconda3\\lib\\site-packages\\numpy\\matrixlib\\defmatrix.py\u001b[0m in \u001b[0;36mmatrix_power\u001b[0;34m(M, n)\u001b[0m\n\u001b[1;32m    171\u001b[0m     \u001b[0mM\u001b[0m \u001b[1;33m=\u001b[0m \u001b[0masanyarray\u001b[0m\u001b[1;33m(\u001b[0m\u001b[0mM\u001b[0m\u001b[1;33m)\u001b[0m\u001b[1;33m\u001b[0m\u001b[0m\n\u001b[1;32m    172\u001b[0m     \u001b[1;32mif\u001b[0m \u001b[0mlen\u001b[0m\u001b[1;33m(\u001b[0m\u001b[0mM\u001b[0m\u001b[1;33m.\u001b[0m\u001b[0mshape\u001b[0m\u001b[1;33m)\u001b[0m \u001b[1;33m!=\u001b[0m \u001b[1;36m2\u001b[0m \u001b[1;32mor\u001b[0m \u001b[0mM\u001b[0m\u001b[1;33m.\u001b[0m\u001b[0mshape\u001b[0m\u001b[1;33m[\u001b[0m\u001b[1;36m0\u001b[0m\u001b[1;33m]\u001b[0m \u001b[1;33m!=\u001b[0m \u001b[0mM\u001b[0m\u001b[1;33m.\u001b[0m\u001b[0mshape\u001b[0m\u001b[1;33m[\u001b[0m\u001b[1;36m1\u001b[0m\u001b[1;33m]\u001b[0m\u001b[1;33m:\u001b[0m\u001b[1;33m\u001b[0m\u001b[0m\n\u001b[0;32m--> 173\u001b[0;31m         \u001b[1;32mraise\u001b[0m \u001b[0mValueError\u001b[0m\u001b[1;33m(\u001b[0m\u001b[1;34m\"input must be a square array\"\u001b[0m\u001b[1;33m)\u001b[0m\u001b[1;33m\u001b[0m\u001b[0m\n\u001b[0m\u001b[1;32m    174\u001b[0m     \u001b[1;32mif\u001b[0m \u001b[1;32mnot\u001b[0m \u001b[0missubdtype\u001b[0m\u001b[1;33m(\u001b[0m\u001b[0mtype\u001b[0m\u001b[1;33m(\u001b[0m\u001b[0mn\u001b[0m\u001b[1;33m)\u001b[0m\u001b[1;33m,\u001b[0m \u001b[0mint\u001b[0m\u001b[1;33m)\u001b[0m\u001b[1;33m:\u001b[0m\u001b[1;33m\u001b[0m\u001b[0m\n\u001b[1;32m    175\u001b[0m         \u001b[1;32mraise\u001b[0m \u001b[0mTypeError\u001b[0m\u001b[1;33m(\u001b[0m\u001b[1;34m\"exponent must be an integer\"\u001b[0m\u001b[1;33m)\u001b[0m\u001b[1;33m\u001b[0m\u001b[0m\n",
      "\u001b[0;31mValueError\u001b[0m: input must be a square array"
     ]
    }
   ],
   "source": [
    "mean_squared_error(w, w)"
   ]
  },
  {
   "cell_type": "code",
   "execution_count": 89,
   "metadata": {
    "collapsed": false
   },
   "outputs": [
    {
     "name": "stdout",
     "output_type": "stream",
     "text": [
      "[[  7.80449130e+122]]\n",
      "[[  1.47707866e+122]]\n"
     ]
    }
   ],
   "source": [
    "a = LinearRegressor()\n",
    "X_train = np.matrix([[11.1],\n",
    "                     [11.9],\n",
    "                     [13.99],\n",
    "                     [15.01],\n",
    "                     [16.1],\n",
    "                     [17.2]]) - 10\n",
    "y_train = np.matrix([[1],\n",
    "                     [2],\n",
    "                     [4],\n",
    "                     [5],\n",
    "                     [6],\n",
    "                     [7]])\n",
    "a = a.fit(X_train, y_train, n_steps = 1000, learning_rate= 0.05)\n",
    "print(a.w)\n",
    "print(a.b)"
   ]
  },
  {
   "cell_type": "code",
   "execution_count": 112,
   "metadata": {
    "collapsed": false
   },
   "outputs": [
    {
     "data": {
      "text/plain": [
       "matrix([[ 0.82051334],\n",
       "        [ 1.66087672],\n",
       "        [ 3.85632604],\n",
       "        [ 4.92778934],\n",
       "        [ 6.07278445],\n",
       "        [ 7.22828409]])"
      ]
     },
     "execution_count": 112,
     "metadata": {},
     "output_type": "execute_result"
    }
   ],
   "source": [
    "a = MLPRegressor(n_units = [2,2])\n",
    "X_train = np.matrix([[11.1],\n",
    "                     [11.9],\n",
    "                     [13.99],\n",
    "                     [15.01],\n",
    "                     [16.1],\n",
    "                     [17.2]]) - 10\n",
    "y_train = np.matrix([[1],\n",
    "                     [2],\n",
    "                     [4],\n",
    "                     [5],\n",
    "                     [6],\n",
    "                     [7]])\n",
    "a.fit(X_train, y_train, n_steps = 1000, learning_rate= 0.001)\n",
    "a.predict(X_train)"
   ]
  },
  {
   "cell_type": "code",
   "execution_count": 87,
   "metadata": {
    "collapsed": false
   },
   "outputs": [
    {
     "ename": "IndexError",
     "evalue": "list index out of range",
     "output_type": "error",
     "traceback": [
      "\u001b[0;31m---------------------------------------------------------------------------\u001b[0m",
      "\u001b[0;31mIndexError\u001b[0m                                Traceback (most recent call last)",
      "\u001b[0;32m<ipython-input-87-67c9ccdf602b>\u001b[0m in \u001b[0;36m<module>\u001b[0;34m()\u001b[0m\n\u001b[0;32m----> 1\u001b[0;31m \u001b[0ma\u001b[0m\u001b[1;33m.\u001b[0m\u001b[0mparams\u001b[0m\u001b[1;33m[\u001b[0m\u001b[1;36m3\u001b[0m\u001b[1;33m]\u001b[0m\u001b[1;33m\u001b[0m\u001b[0m\n\u001b[0m",
      "\u001b[0;31mIndexError\u001b[0m: list index out of range"
     ]
    }
   ],
   "source": [
    "a.params[3]"
   ]
  }
 ],
 "metadata": {
  "anaconda-cloud": {},
  "kernelspec": {
   "display_name": "Python [conda root]",
   "language": "python",
   "name": "conda-root-py"
  },
  "language_info": {
   "codemirror_mode": {
    "name": "ipython",
    "version": 3
   },
   "file_extension": ".py",
   "mimetype": "text/x-python",
   "name": "python",
   "nbconvert_exporter": "python",
   "pygments_lexer": "ipython3",
   "version": "3.5.2"
  }
 },
 "nbformat": 4,
 "nbformat_minor": 1
}
